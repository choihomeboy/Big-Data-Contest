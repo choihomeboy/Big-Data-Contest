{
  "nbformat": 4,
  "nbformat_minor": 0,
  "metadata": {
    "colab": {
      "name": "test_lineage.ipynb",
      "provenance": []
    },
    "kernelspec": {
      "name": "python3",
      "display_name": "Python 3"
    },
    "accelerator": "GPU"
  },
  "cells": [
    {
      "cell_type": "code",
      "metadata": {
        "id": "aU6ZVWgI59aI",
        "colab_type": "code",
        "colab": {}
      },
      "source": [
        "import pandas as pd\n",
        "import numpy as np\n",
        "import lightgbm as lgb\n",
        "from sklearn.metrics import mean_squared_error\n",
        "from sklearn.model_selection import train_test_split\n",
        "from sklearn.metrics import accuracy_score\n",
        "\n",
        "from google.colab import drive\n",
        "drive.mount('/content/drive')"
      ],
      "execution_count": 0,
      "outputs": []
    },
    {
      "cell_type": "code",
      "metadata": {
        "id": "zFfCcwsC5-Ru",
        "colab_type": "code",
        "colab": {}
      },
      "source": [
        "df_activity = pd.read_csv('/content/drive/My Drive/Colab_Notebooks/data/train_activity.csv', engine = 'python')\n",
        "df_pledge = pd.read_csv('/content/drive/My Drive/Colab_Notebooks/data/train_pledge.csv', engine = 'python')\n",
        "df_payment = pd.read_csv('/content/drive/My Drive/Colab_Notebooks/data/train_payment.csv', engine = 'python')\n",
        "#df_trade = pd.read_csv('/content/drive/My Drive/Colab_Notebooks/data/test2_trade.csv', engine = 'python')\n",
        "df_combat = pd.read_csv('/content/drive/My Drive/Colab_Notebooks/data/train_combat.csv', engine = 'python')"
      ],
      "execution_count": 0,
      "outputs": []
    },
    {
      "cell_type": "markdown",
      "metadata": {
        "id": "UL1_p1hqNzqT",
        "colab_type": "text"
      },
      "source": [
        "# ***TRAIN***"
      ]
    },
    {
      "cell_type": "code",
      "metadata": {
        "id": "T1h6nF-Y6ZXc",
        "colab_type": "code",
        "colab": {}
      },
      "source": [
        "df1 = df_activity.copy()\n",
        "server = pd.pivot_table(df1, index='acc_id',values='server',aggfunc=lambda x: x.mode().iat[0])\n",
        "server =server.reset_index(level=0)\n",
        "df1 =df1.drop(['char_id','server','day','exp_recovery','private_shop'],axis=1)\n",
        "df1 = pd.pivot_table(df1, index='acc_id',aggfunc= np.sum).merge(server,on='acc_id')"
      ],
      "execution_count": 0,
      "outputs": []
    },
    {
      "cell_type": "markdown",
      "metadata": {
        "id": "p7SbuVeRNtp6",
        "colab_type": "text"
      },
      "source": [
        "# ***PLEDGE***"
      ]
    },
    {
      "cell_type": "code",
      "metadata": {
        "id": "VmFhDfA-_LmV",
        "colab_type": "code",
        "colab": {}
      },
      "source": [
        "df2 = df_pledge.copy()\n",
        "pledge_id = pd.pivot_table(df2, index='acc_id',values='pledge_id',aggfunc=lambda x: x.mode().iat[0])\n",
        "pledge_id=pledge_id.reset_index(level=0)\n",
        "pledge_ids, count = np.unique(pledge_id['pledge_id'],return_counts=True)\n",
        "dict_hot_pledge_id = dict(zip(pledge_ids,count))\n",
        "pledge_id = pd.concat([pledge_id,pledge_id['pledge_id'].map(dict_hot_pledge_id)],axis=1)\n",
        "pledge_id.columns = ['acc_id','pledge_id','how_popular']\n",
        "df2=df2.drop(['day','server','char_id','pledge_id'],axis=1)\n",
        "df2 = pd.pivot_table(df2, index='acc_id',aggfunc= np.sum)\n",
        "df2= df2.reset_index(level=0)\n",
        "df2= df2.merge(pledge_id,on='acc_id')"
      ],
      "execution_count": 0,
      "outputs": []
    },
    {
      "cell_type": "markdown",
      "metadata": {
        "id": "CqXr5FyxOTKJ",
        "colab_type": "text"
      },
      "source": [
        "# PAYMENT"
      ]
    },
    {
      "cell_type": "code",
      "metadata": {
        "id": "d_Ltr5xc_2Tv",
        "colab_type": "code",
        "colab": {}
      },
      "source": [
        "df3 = df_payment.copy()\n",
        "df3=df3.drop('day',axis=1)\n",
        "df3 =pd.pivot_table(df3, index='acc_id',aggfunc= len)\n",
        "df3 =df3.reset_index(level=0)\n",
        "df3=df3.rename(columns={'amount_spent':'spent_count'})"
      ],
      "execution_count": 0,
      "outputs": []
    },
    {
      "cell_type": "markdown",
      "metadata": {
        "id": "V_ltrwQiOZ5p",
        "colab_type": "text"
      },
      "source": [
        "# TRADE"
      ]
    },
    {
      "cell_type": "code",
      "metadata": {
        "id": "LqE_lkSaBngb",
        "colab_type": "code",
        "colab": {}
      },
      "source": [
        "#df4=df_trade.copy()"
      ],
      "execution_count": 0,
      "outputs": []
    },
    {
      "cell_type": "code",
      "metadata": {
        "id": "Juz9cIKDA_YC",
        "colab_type": "code",
        "colab": {}
      },
      "source": [
        "#df_trade.head()"
      ],
      "execution_count": 0,
      "outputs": []
    },
    {
      "cell_type": "code",
      "metadata": {
        "id": "HkCQAyu1BIUd",
        "colab_type": "code",
        "colab": {}
      },
      "source": [
        "#df4=df4.drop(['day','time','type','server','source_char_id','target_char_id','item_type','item_price','source_acc_id'],axis=1)"
      ],
      "execution_count": 0,
      "outputs": []
    },
    {
      "cell_type": "code",
      "metadata": {
        "id": "osqJZrm-Bq4h",
        "colab_type": "code",
        "colab": {}
      },
      "source": [
        "#df4 = df4.rename(columns = {'target_acc_id':'acc_id'})"
      ],
      "execution_count": 0,
      "outputs": []
    },
    {
      "cell_type": "code",
      "metadata": {
        "id": "Y6_aRLlBB4fZ",
        "colab_type": "code",
        "colab": {}
      },
      "source": [
        "#df4 = pd.pivot_table(df4, index='acc_id',aggfunc= len).merge(pd.pivot_table(df4, index='acc_id',aggfunc= np.sum),on='acc_id',how='inner')"
      ],
      "execution_count": 0,
      "outputs": []
    },
    {
      "cell_type": "code",
      "metadata": {
        "id": "SrSxsXsjCMwJ",
        "colab_type": "code",
        "colab": {}
      },
      "source": [
        "#df4 =df4.reset_index(level=0)"
      ],
      "execution_count": 0,
      "outputs": []
    },
    {
      "cell_type": "code",
      "metadata": {
        "id": "IGzPKSkVC_Bj",
        "colab_type": "code",
        "colab": {}
      },
      "source": [
        "#df4=df4.rename(columns = {'item_amount_x':'trade_count','item_amount_y': 'item_amount'})"
      ],
      "execution_count": 0,
      "outputs": []
    },
    {
      "cell_type": "markdown",
      "metadata": {
        "id": "e81_uJ2qOc3W",
        "colab_type": "text"
      },
      "source": [
        "# COMBAT"
      ]
    },
    {
      "cell_type": "code",
      "metadata": {
        "id": "xmxuMjG2DZVl",
        "colab_type": "code",
        "colab": {}
      },
      "source": [
        "df5=df_combat.copy()\n",
        "df5.head()\n",
        "df5=df5.drop(['day','char_id','server'],axis=1)\n",
        "df5_1=pd.pivot_table(df5, index='acc_id', values='class',aggfunc=lambda x: x.mode().iat[0])\n",
        "df5_3=pd.pivot_table(df5, index='acc_id',values='level', aggfunc=max)\n",
        "df5=df5.drop(['class','level'],axis=1)\n",
        "df5_2 =pd.pivot_table(df5,index='acc_id', aggfunc=np.sum)\n",
        "df5_1=df5_1.reset_index(level=0)\n",
        "df5_2=df5_2.reset_index(level=0)\n",
        "df5_3=df5_3.reset_index(level=0)\n",
        "df5 = df5_1.merge(df5_2,on='acc_id')\n",
        "df5 = df5.merge(df5_3,on = 'acc_id')\n",
        "df5=df5.rename(columns={'random_attacker_cnt':'combat_random_attacker_cnt','random_defender_cnt':'combat_random_defender_cnt','same_pledge_cnt':'combat_same_pledge_cnt','temp_cnt':'combat_temp_cnt'\n",
        "                   ,'etc_cnt':'combat_etc_cnt'})"
      ],
      "execution_count": 0,
      "outputs": []
    },
    {
      "cell_type": "code",
      "metadata": {
        "id": "UIRJxDwvF4oL",
        "colab_type": "code",
        "colab": {}
      },
      "source": [
        "df_final=df1.merge(df2,on='acc_id',how='outer')\n",
        "df_final.shape"
      ],
      "execution_count": 0,
      "outputs": []
    },
    {
      "cell_type": "code",
      "metadata": {
        "id": "xr5GotZhQhz9",
        "colab_type": "code",
        "colab": {}
      },
      "source": [
        "df_final=df_final.merge(df3,on='acc_id',how='outer')\n",
        "df_final.shape"
      ],
      "execution_count": 0,
      "outputs": []
    },
    {
      "cell_type": "code",
      "metadata": {
        "id": "x5w3iEYuQmv-",
        "colab_type": "code",
        "colab": {}
      },
      "source": [
        "df_final=df_final.merge(df5,on='acc_id',how='outer')\n",
        "df_final.shape"
      ],
      "execution_count": 0,
      "outputs": []
    },
    {
      "cell_type": "code",
      "metadata": {
        "id": "nXnBeioBQJSm",
        "colab_type": "code",
        "colab": {}
      },
      "source": [
        "df_final=df_final.fillna(0)"
      ],
      "execution_count": 0,
      "outputs": []
    },
    {
      "cell_type": "code",
      "metadata": {
        "id": "sTWoSCLeRvO4",
        "colab_type": "code",
        "colab": {}
      },
      "source": [
        "df_final.describe()"
      ],
      "execution_count": 0,
      "outputs": []
    },
    {
      "cell_type": "code",
      "metadata": {
        "id": "A7fEXga1FGgh",
        "colab_type": "code",
        "colab": {}
      },
      "source": [
        "temp_dict = {}\n",
        "to_sort = df_final['server'].unique()\n",
        "to_sort=np.sort(to_sort)\n",
        "for a,b, in enumerate(to_sort):\n",
        "  temp_dict[b]=a\n",
        "\n",
        "df_final['server']=df_final['server'].map(temp_dict)\n",
        "df_final = df_final.drop(['enchant_count'],axis=1)"
      ],
      "execution_count": 0,
      "outputs": []
    },
    {
      "cell_type": "code",
      "metadata": {
        "id": "WKu3bEWgSB-e",
        "colab_type": "code",
        "colab": {}
      },
      "source": [
        "####핫한 pledge 들 다구함\n",
        "t1 = np.unique(df_final['pledge_id'],return_counts=True)"
      ],
      "execution_count": 0,
      "outputs": []
    },
    {
      "cell_type": "code",
      "metadata": {
        "id": "qC0r8mixT3B2",
        "colab_type": "code",
        "colab": {}
      },
      "source": [
        "dic1 = {}\n",
        "for i,j in zip(t1[0],t1[1]):\n",
        "  dic1[i]=j\n",
        "  \n",
        "dic1[0]=0\n"
      ],
      "execution_count": 0,
      "outputs": []
    },
    {
      "cell_type": "code",
      "metadata": {
        "id": "NOOIqohpTn2n",
        "colab_type": "code",
        "colab": {}
      },
      "source": [
        "df_final['pledge_id'] = df_final['pledge_id'].map(dic1)"
      ],
      "execution_count": 0,
      "outputs": []
    },
    {
      "cell_type": "code",
      "metadata": {
        "id": "6nm3nTfzLw4y",
        "colab_type": "code",
        "colab": {}
      },
      "source": [
        "df_final['fishing'] = df_final['fishing']/df_final['playtime']\n",
        "df_final['party_exp_rate'] = df_final['party_exp']/df_final['playtime']\n",
        "df_final['solo_exp_rate'] = df_final['solo_exp']/df_final['playtime']\n",
        "df_final['revive_rate'] = df_final['revive']/df_final['death']\n"
      ],
      "execution_count": 0,
      "outputs": []
    },
    {
      "cell_type": "code",
      "metadata": {
        "id": "rIJDM7SzJpyQ",
        "colab_type": "code",
        "colab": {}
      },
      "source": [
        "def death(x):\n",
        "  if 0<=x<=0.5:\n",
        "    return 0\n",
        "  elif 0.5<x<=2.5:\n",
        "    return 1\n",
        "  else:\n",
        "    return 2\n",
        "df_final['death']=df_final['death'].apply(death)"
      ],
      "execution_count": 0,
      "outputs": []
    },
    {
      "cell_type": "code",
      "metadata": {
        "id": "TsuiDbudHRS1",
        "colab_type": "code",
        "colab": {}
      },
      "source": [
        "def rich_monster(x):\n",
        "  if 2<=x<8:\n",
        "    return 1\n",
        "  elif x>=8:\n",
        "    return 2\n",
        "  else:\n",
        "    return 3\n",
        "  \n",
        "def level(x):\n",
        "  if x==17:\n",
        "    return 3\n",
        "  elif x==16:\n",
        "    return 2\n",
        "  elif x<=12:\n",
        "    return 0\n",
        "  elif 12<x<16:\n",
        "    return 1\n",
        "  \n",
        "df_final['rich_monster']=df_final['rich_monster'].apply(rich_monster)\n",
        "df_final['level']=df_final['level'].apply(level)"
      ],
      "execution_count": 0,
      "outputs": []
    },
    {
      "cell_type": "code",
      "metadata": {
        "id": "94zAeUQNHRML",
        "colab_type": "code",
        "colab": {}
      },
      "source": [
        "df_final.shape"
      ],
      "execution_count": 0,
      "outputs": []
    },
    {
      "cell_type": "code",
      "metadata": {
        "id": "olsvEgJ0HRJL",
        "colab_type": "code",
        "colab": {}
      },
      "source": [
        "df_final.describe()"
      ],
      "execution_count": 0,
      "outputs": []
    },
    {
      "cell_type": "code",
      "metadata": {
        "id": "gu0ZD4NfR8GQ",
        "colab_type": "code",
        "colab": {}
      },
      "source": [
        "#df_final.to_csv('/content/drive/My Drive/Colab_Notebooks/final_csv/test2.csv',index=False)"
      ],
      "execution_count": 0,
      "outputs": []
    },
    {
      "cell_type": "code",
      "metadata": {
        "id": "D9QkkY2a-nBg",
        "colab_type": "code",
        "colab": {}
      },
      "source": [
        "df_label= pd.read_csv('/content/drive/My Drive/Colab_Notebooks/data/train_label.csv')"
      ],
      "execution_count": 0,
      "outputs": []
    },
    {
      "cell_type": "code",
      "metadata": {
        "id": "6cGHBurM_Umi",
        "colab_type": "code",
        "colab": {}
      },
      "source": [
        "df_label.head()"
      ],
      "execution_count": 0,
      "outputs": []
    },
    {
      "cell_type": "code",
      "metadata": {
        "id": "HB9RaTde_V5q",
        "colab_type": "code",
        "colab": {}
      },
      "source": [
        "df_train = df_final.merge(df_label,on='acc_id')"
      ],
      "execution_count": 0,
      "outputs": []
    },
    {
      "cell_type": "code",
      "metadata": {
        "id": "ltqC9sVsEqYp",
        "colab_type": "code",
        "colab": {}
      },
      "source": [
        "#df_train.to_csv('/content/drive/My Drive/Colab_Notebooks/data/df_train.csv',index=False)"
      ],
      "execution_count": 0,
      "outputs": []
    },
    {
      "cell_type": "code",
      "metadata": {
        "id": "uvMgGiF5mQvB",
        "colab_type": "code",
        "colab": {}
      },
      "source": [
        "df_train.shape"
      ],
      "execution_count": 0,
      "outputs": []
    },
    {
      "cell_type": "code",
      "metadata": {
        "id": "H5qrS7vxF7Hd",
        "colab_type": "code",
        "colab": {}
      },
      "source": [
        "df_train1=df_train.copy()"
      ],
      "execution_count": 0,
      "outputs": []
    },
    {
      "cell_type": "code",
      "metadata": {
        "id": "b62kgWr_GTLn",
        "colab_type": "code",
        "colab": {}
      },
      "source": [
        "df_train = df_train1.copy()"
      ],
      "execution_count": 0,
      "outputs": []
    },
    {
      "cell_type": "code",
      "metadata": {
        "id": "olwFpJKS_oCe",
        "colab_type": "code",
        "colab": {}
      },
      "source": [
        "df_train = df_train.drop(['acc_id','combat_char_cnt','num_opponent','play_char_cnt','pledge_cnt','combat_play_time'], axis = 1)\n",
        "\n",
        "# my 전처리.\n",
        "#-------------------------------------------"
      ],
      "execution_count": 0,
      "outputs": []
    },
    {
      "cell_type": "code",
      "metadata": {
        "id": "Y2W2JsiT_ppc",
        "colab_type": "code",
        "colab": {}
      },
      "source": [
        "from sklearn.model_selection import train_test_split\n",
        "X=df_train.drop(['amount_spent', 'survival_time'], axis = 1)\n",
        "y_spent=df_train['amount_spent']\n",
        "#y_survival= df_train['survival_time']\n",
        "X_train, X_test, y_train, y_test = train_test_split(X,y_spent,test_size=0.2,random_state = 2019)"
      ],
      "execution_count": 0,
      "outputs": []
    },
    {
      "cell_type": "code",
      "metadata": {
        "id": "apEHenJx_pn-",
        "colab_type": "code",
        "colab": {}
      },
      "source": [
        "lgb_train = lgb.Dataset(X_train, y_train)\n",
        "lgb_eval = lgb.Dataset(X_test, y_test, reference=lgb_train)"
      ],
      "execution_count": 0,
      "outputs": []
    },
    {
      "cell_type": "code",
      "metadata": {
        "id": "xZ_3VbSh_pmb",
        "colab_type": "code",
        "colab": {}
      },
      "source": [
        "#feature_fraction : 데이터의 paremater들 중에 각 round에 몇 %의 parameter를 random으로 골라 학습시킬지 정해주는 인자\n",
        "params = {\n",
        "    'boosting_type': 'gbdt',\n",
        "    'objective': 'regression_l1',\n",
        "    #'objective':'mape', #이게 loss function 같은거고, metric이 valid할때 무슨 함수로 valid할지 정하는거임.\n",
        "    #'metric': 'regression_l1', #l2가 제곱 loss, mape는 %로 오차 나타내줌\n",
        "    #'metric': 'mae',\n",
        "    'num_leaves':200,\n",
        "    #'min_data':20,\n",
        "    'min_data_in_leaf': 20, #20이 최적화라고 한다.\n",
        "    'max_depth': 20,\n",
        "    'max_bin':50,\n",
        "    'learning_rate': 0.05,\n",
        "    #'feature_fraction': 0.8,\n",
        "    #'max_depth':20,\n",
        "    #'bagging_fraction': 0.8,\n",
        "    #'bagging_freq': 5,\n",
        "    'num_trees':1000, #이게 train 반복횟수임\n",
        "    #'verbose': 0,\n",
        "    #'min_sum_hessian_in_leaf':11,\n",
        "    'n_estimators' : 720,\n",
        "    #'categorical_features' : ['maxServerOfAcc','main_server']\n",
        "    #'max_cat_group':30\n",
        "    \n",
        "}\n",
        "#l1 절대 l2 제곱"
      ],
      "execution_count": 0,
      "outputs": []
    },
    {
      "cell_type": "code",
      "metadata": {
        "id": "UkfxD3c7_pc4",
        "colab_type": "code",
        "colab": {}
      },
      "source": [
        "print('Start_Training')\n",
        "\n",
        "gbm = lgb.train(params,\n",
        "               lgb_train,\n",
        "               valid_sets = lgb_eval,\n",
        "               verbose_eval = 200,\n",
        "               early_stopping_rounds = 100)\n",
        "\n",
        "print()\n"
      ],
      "execution_count": 0,
      "outputs": []
    },
    {
      "cell_type": "code",
      "metadata": {
        "id": "XzFAs02oJxww",
        "colab_type": "code",
        "colab": {}
      },
      "source": [
        "#모델 survival_time_64  ## 여기서는 feature 하나도안떨궜음현재\n",
        "from sklearn.externals import joblib\n",
        " \n",
        "# save model\n",
        "joblib.dump(gbm, '/content/drive/My Drive/Colab_Notebooks/amount_spent_model.pkl')\n",
        " "
      ],
      "execution_count": 0,
      "outputs": []
    },
    {
      "cell_type": "code",
      "metadata": {
        "id": "4T_S7jyWl1yX",
        "colab_type": "code",
        "colab": {}
      },
      "source": [
        "from google.colab import drive\n",
        "drive.mount('/content/drive')"
      ],
      "execution_count": 0,
      "outputs": []
    },
    {
      "cell_type": "code",
      "metadata": {
        "id": "zL-fPcoTxSBu",
        "colab_type": "code",
        "colab": {}
      },
      "source": [
        "#####survival_bin_model####"
      ],
      "execution_count": 0,
      "outputs": []
    },
    {
      "cell_type": "code",
      "metadata": {
        "id": "AdVORVLUxR1s",
        "colab_type": "code",
        "colab": {}
      },
      "source": [
        "df_train = df_train1.copy()"
      ],
      "execution_count": 0,
      "outputs": []
    },
    {
      "cell_type": "code",
      "metadata": {
        "id": "weMSa2ZD6Ude",
        "colab_type": "code",
        "colab": {}
      },
      "source": [
        "df_train.describe()"
      ],
      "execution_count": 0,
      "outputs": []
    },
    {
      "cell_type": "code",
      "metadata": {
        "id": "vyvzlFHqyR4Q",
        "colab_type": "code",
        "colab": {}
      },
      "source": [
        "df_train = df_train.drop(['acc_id','combat_char_cnt','num_opponent','play_char_cnt','pledge_cnt','combat_play_time'], axis = 1)\n",
        "\n",
        "# my 전처리.\n",
        "#-------------------------------------------"
      ],
      "execution_count": 0,
      "outputs": []
    },
    {
      "cell_type": "code",
      "metadata": {
        "id": "61KBZwRozWbG",
        "colab_type": "code",
        "colab": {}
      },
      "source": [
        "#new_merged_all.drop(['Unnamed: 0','Unnamed: 0.1'],axis=1,inplace=True)\n",
        "df_train.set_value(temp['survival_time']!=64,'bin_survival_time',0)\n",
        "df_train.set_value(temp['survival_time']==64,'bin_survival_time',1)\n",
        "# temp.drop(['acc_id'],axis=1,inplace=True)\n",
        "a=0"
      ],
      "execution_count": 0,
      "outputs": []
    },
    {
      "cell_type": "code",
      "metadata": {
        "id": "L6DEXWISxXHj",
        "colab_type": "code",
        "colab": {}
      },
      "source": [
        "from sklearn.model_selection import train_test_split\n",
        "X=df_train.drop(['amount_spent', 'survival_time','bin_survival_time'], axis = 1)\n",
        "#y_spent=df_train['amount_spent']\n",
        "y_survival= df_train['bin_survival_time']\n",
        "X_train, X_test, y_train, y_test = train_test_split(X,y_survival,test_size=0.2,random_state = 2019)"
      ],
      "execution_count": 0,
      "outputs": []
    },
    {
      "cell_type": "code",
      "metadata": {
        "id": "aS9qiSR6xZxG",
        "colab_type": "code",
        "colab": {}
      },
      "source": [
        "lgb_train = lgb.Dataset(X_train, label= y_train)\n",
        "lgb_eval = lgb.Dataset(X_test, label=y_test)"
      ],
      "execution_count": 0,
      "outputs": []
    },
    {
      "cell_type": "code",
      "metadata": {
        "id": "LbDHsNTSy84d",
        "colab_type": "code",
        "colab": {}
      },
      "source": [
        "X_test.shape"
      ],
      "execution_count": 0,
      "outputs": []
    },
    {
      "cell_type": "code",
      "metadata": {
        "id": "mPFK1NJ4xfRm",
        "colab_type": "code",
        "colab": {}
      },
      "source": [
        "#feature_fraction : 데이터의 paremater들 중에 각 round에 몇 %의 parameter를 random으로 골라 학습시킬지 정해주는 인자\n",
        "params = {\n",
        "    'boosting_type': 'gbdt',\n",
        "    'objective': 'binary',\n",
        "    #'objective':'mape', #이게 loss function 같은거고, metric이 valid할때 무슨 함수로 valid할지 정하는거임.\n",
        "    #'metric': 'regression_l1', #l2가 제곱 loss, mape는 %로 오차 나타내줌\n",
        "    #'metric': 'mae',\n",
        "    'num_leaves':200,\n",
        "    #'min_data':20,\n",
        "    'min_data_in_leaf': 20, #20이 최적화라고 한다.\n",
        "    'max_depth': 20,\n",
        "    'max_bin':50,\n",
        "    'learning_rate': 0.05,\n",
        "    #'feature_fraction': 0.8,\n",
        "    #'max_depth':20,\n",
        "    #'bagging_fraction': 0.8,\n",
        "    #'bagging_freq': 5,\n",
        "    'num_trees':1000, #이게 train 반복횟수임\n",
        "    #'verbose': 0,\n",
        "    #'min_sum_hessian_in_leaf':11,\n",
        "    'n_estimators' : 720,\n",
        "    #'categorical_features' : ['maxServerOfAcc','main_server']\n",
        "    #'max_cat_group':30\n",
        "    \n",
        "}\n",
        "#l1 절대 l2 제곱"
      ],
      "execution_count": 0,
      "outputs": []
    },
    {
      "cell_type": "code",
      "metadata": {
        "id": "NqkrfJavxhMk",
        "colab_type": "code",
        "colab": {}
      },
      "source": [
        "print('Start_Training')\n",
        "\n",
        "gbm = lgb.train(params,\n",
        "               lgb_train,\n",
        "               valid_sets = lgb_eval,\n",
        "               verbose_eval = 10,\n",
        "               early_stopping_rounds = 100)\n",
        "\n",
        "print()\n"
      ],
      "execution_count": 0,
      "outputs": []
    },
    {
      "cell_type": "code",
      "metadata": {
        "id": "n8y_AaYS0eFw",
        "colab_type": "code",
        "colab": {}
      },
      "source": [
        "#Prediction\n",
        "y_pred=gbm.predict(X_test)\n",
        "print(y_pred[:5])\n",
        "\n",
        "\n",
        "#convert into binary values\n",
        "for i in range(0,y_pred.shape[0]):\n",
        "    if y_pred[i]>=.5:       # setting threshold to .5\n",
        "       y_pred[i]=1\n",
        "    else:  \n",
        "       y_pred[i]=0\n",
        "        \n",
        "print(y_pred[:5])"
      ],
      "execution_count": 0,
      "outputs": []
    },
    {
      "cell_type": "code",
      "metadata": {
        "id": "hhqYiTUq0UoH",
        "colab_type": "code",
        "colab": {}
      },
      "source": [
        "#Confusion matrix\n",
        "from sklearn.metrics import confusion_matrix\n",
        "cm = confusion_matrix(y_test, y_pred)\n",
        "\n",
        "#Accuracy\n",
        "from sklearn.metrics import accuracy_score\n",
        "accuracy=accuracy_score(y_pred,y_test)\n",
        "\n",
        "print(cm)\n",
        "print(accuracy)"
      ],
      "execution_count": 0,
      "outputs": []
    },
    {
      "cell_type": "code",
      "metadata": {
        "id": "lfCf8ArsxhJj",
        "colab_type": "code",
        "colab": {}
      },
      "source": [
        "#모델 survival_time_64  ## 여기서는 feature 하나도안떨궜음현재\n",
        "from sklearn.externals import joblib\n",
        " \n",
        "# save model\n",
        "joblib.dump(gbm, '/content/drive/My Drive/Colab_Notebooks/bin_survival.pkl')\n",
        " "
      ],
      "execution_count": 0,
      "outputs": []
    },
    {
      "cell_type": "code",
      "metadata": {
        "id": "Dbs7qPurxhFq",
        "colab_type": "code",
        "colab": {}
      },
      "source": [
        "df_train.describe()"
      ],
      "execution_count": 0,
      "outputs": []
    },
    {
      "cell_type": "code",
      "metadata": {
        "id": "ybcqYe69JwiH",
        "colab_type": "code",
        "colab": {}
      },
      "source": [
        "###### survival_time_model ###########"
      ],
      "execution_count": 0,
      "outputs": []
    },
    {
      "cell_type": "code",
      "metadata": {
        "id": "TNWtSViA_pZz",
        "colab_type": "code",
        "colab": {}
      },
      "source": [
        "df_train = df_train1.copy()"
      ],
      "execution_count": 0,
      "outputs": []
    },
    {
      "cell_type": "code",
      "metadata": {
        "id": "hOMDElcYGmBJ",
        "colab_type": "code",
        "colab": {}
      },
      "source": [
        "df_train = df_train.drop(['acc_id','combat_char_cnt','num_opponent','play_char_cnt','pledge_cnt','combat_play_time'], axis = 1)\n",
        "\n",
        "# my 전처리.\n",
        "#-------------------------------------------"
      ],
      "execution_count": 0,
      "outputs": []
    },
    {
      "cell_type": "code",
      "metadata": {
        "id": "qhY7zzsOIOdP",
        "colab_type": "code",
        "colab": {}
      },
      "source": [
        "df_train = df_train[df_train['survival_time']<64]"
      ],
      "execution_count": 0,
      "outputs": []
    },
    {
      "cell_type": "code",
      "metadata": {
        "id": "oc-fpCUrZZQJ",
        "colab_type": "code",
        "colab": {}
      },
      "source": [
        "df_train = df_train1.copy()"
      ],
      "execution_count": 0,
      "outputs": []
    },
    {
      "cell_type": "code",
      "metadata": {
        "id": "V0xZpVEX_pWU",
        "colab_type": "code",
        "colab": {}
      },
      "source": [
        "from sklearn.model_selection import train_test_split\n",
        "X=df_train.drop(['amount_spent', 'survival_time'], axis = 1)\n",
        "#y_spent=df_train['amount_spent']\n",
        "y_survival= df_train['survival_time']\n",
        "X_train, X_test, y_train, y_test = train_test_split(X,y_survival,test_size=0.1,random_state = 2019)"
      ],
      "execution_count": 0,
      "outputs": []
    },
    {
      "cell_type": "code",
      "metadata": {
        "id": "PmA8n8yD_pS8",
        "colab_type": "code",
        "colab": {}
      },
      "source": [
        "lgb_train = lgb.Dataset(X_train, y_train)\n",
        "lgb_eval = lgb.Dataset(X_test, y_test, reference=lgb_train)"
      ],
      "execution_count": 0,
      "outputs": []
    },
    {
      "cell_type": "code",
      "metadata": {
        "id": "3jmLPAue_pOq",
        "colab_type": "code",
        "colab": {}
      },
      "source": [
        "#feature_fraction : 데이터의 paremater들 중에 각 round에 몇 %의 parameter를 random으로 골라 학습시킬지 정해주는 인자\n",
        "params = {\n",
        "    'boosting_type': 'gbdt',\n",
        "    'objective': 'regression_l1',\n",
        "    #'objective':'mape', #이게 loss function 같은거고, metric이 valid할때 무슨 함수로 valid할지 정하는거임.\n",
        "    #'metric': 'regression_l1', #l2가 제곱 loss, mape는 %로 오차 나타내줌\n",
        "    #'metric': 'mae',\n",
        "    'num_leaves':200,\n",
        "    #'min_data':20,\n",
        "    'min_data_in_leaf': 20, #20이 최적화라고 한다.\n",
        "    'max_depth': 20,\n",
        "    'max_bin':50,\n",
        "    'learning_rate': 0.05,\n",
        "    #'feature_fraction': 0.8,\n",
        "    #'max_depth':20,\n",
        "    #'bagging_fraction': 0.8,\n",
        "    #'bagging_freq': 5,\n",
        "    'num_trees':1000, #이게 train 반복횟수임\n",
        "    #'verbose': 0,\n",
        "    #'min_sum_hessian_in_leaf':11,\n",
        "    'n_estimators' : 720,\n",
        "    #'categorical_features' : ['maxServerOfAcc','main_server']\n",
        "    #'max_cat_group':30\n",
        "    \n",
        "}\n",
        "#l1 절대 l2 제곱"
      ],
      "execution_count": 0,
      "outputs": []
    },
    {
      "cell_type": "code",
      "metadata": {
        "id": "tSSolKQRD--E",
        "colab_type": "code",
        "colab": {}
      },
      "source": [
        "print('Start_Training')\n",
        "\n",
        "gbm = lgb.train(params,\n",
        "               lgb_train,\n",
        "               valid_sets = lgb_eval,\n",
        "               verbose_eval = 200,\n",
        "               early_stopping_rounds = 100)\n",
        "\n",
        "print()\n"
      ],
      "execution_count": 0,
      "outputs": []
    },
    {
      "cell_type": "code",
      "metadata": {
        "id": "GIRGn-faEAPJ",
        "colab_type": "code",
        "colab": {}
      },
      "source": [
        "#모델 survival_under_time_64 \n",
        "from sklearn.externals import joblib\n",
        " \n",
        "# save model\n",
        "joblib.dump(gbm, '/content/drive/My Drive/Colab_Notebooks/survival_model.pkl')\n",
        " "
      ],
      "execution_count": 0,
      "outputs": []
    },
    {
      "cell_type": "code",
      "metadata": {
        "id": "Po3MG4H6MxaX",
        "colab_type": "code",
        "colab": {}
      },
      "source": [
        "t1 = pd.read_csv('/content/drive/My Drive/Colab_Notebooks/final_csv/test1.csv')"
      ],
      "execution_count": 0,
      "outputs": []
    },
    {
      "cell_type": "code",
      "metadata": {
        "id": "gO_qmENl8QQ-",
        "colab_type": "code",
        "colab": {}
      },
      "source": [
        "len(t1)"
      ],
      "execution_count": 0,
      "outputs": []
    }
  ]
}